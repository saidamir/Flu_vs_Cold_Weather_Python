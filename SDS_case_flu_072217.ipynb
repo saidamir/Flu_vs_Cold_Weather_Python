{
 "cells": [
  {
   "cell_type": "markdown",
   "metadata": {},
   "source": [
    "### Files info:\n",
    "1. The number of deaths and the death rate associated with the Influenza virus by State in 2015;\n",
    "2. The average temperature during the winter season from 2015/2016 by State;\n",
    "\n",
    "### Deliverables:\n",
    "1. Load both datasets and merge them;\n",
    "2. Create a function that receives a temperature in Celsius and converts it to Fahrenheit.\n",
    "3. Create a function that receives a temperature in Fahrenheit and converts it to Celsius. Make both\n",
    "transformations in the same function, receiving as additional argument the type of conversion you\n",
    "want to perform.\n",
    "4. Apply the conversion to your data frame, representing the temperature in Fahrenheit.\n",
    "5. Calculate the Pearson's correlation coefficient to determine if the number of deaths associated with\n",
    "influenza and the average temperature are correlated. Do the same thing to the death rate, instead of \n"
   ]
  },
  {
   "cell_type": "markdown",
   "metadata": {},
   "source": [
    "### Sample file size\n",
    "\n",
    "We need to determine the size of file. Very small sizes."
   ]
  },
  {
   "cell_type": "code",
   "execution_count": 3,
   "metadata": {
    "collapsed": false
   },
   "outputs": [
    {
     "name": "stdout",
     "output_type": "stream",
     "text": [
      "/Users/azizmamatov/Google_Drive/data\n"
     ]
    }
   ],
   "source": [
    "%cd data/"
   ]
  },
  {
   "cell_type": "code",
   "execution_count": 6,
   "metadata": {
    "collapsed": false
   },
   "outputs": [
    {
     "data": {
      "text/plain": [
       "440"
      ]
     },
     "execution_count": 6,
     "metadata": {},
     "output_type": "execute_result"
    }
   ],
   "source": [
    "#checks the file size\n",
    "import os\n",
    "os.path.getsize('avg_winter_temperature.csv')\n"
   ]
  },
  {
   "cell_type": "markdown",
   "metadata": {},
   "source": [
    "### Methodology to be used\n",
    "We will use numpy and pandas to analyze our file. And first we will create dataframes out of csv files and see what table consists of: the df2 is 50 rows X 3 columbs and df1 is 50 rows X 4 columbs\n",
    "\n",
    "State data is object while other information is numberical."
   ]
  },
  {
   "cell_type": "code",
   "execution_count": 15,
   "metadata": {
    "collapsed": false
   },
   "outputs": [
    {
     "name": "stdout",
     "output_type": "stream",
     "text": [
      "  state  death_rate  death_abs\n",
      "0    AK         8.4         41\n",
      "1    AL        19.5       1097\n",
      "  state  avg_celsius\n",
      "0    AK        -16.3\n",
      "1    AL          8.1\n",
      "number of rows 50 50\n",
      "state          object\n",
      "death_rate    float64\n",
      "death_abs       int64\n",
      "dtype: object state           object\n",
      "avg_celsius    float64\n",
      "dtype: object\n"
     ]
    }
   ],
   "source": [
    "import numpy as np\n",
    "import pandas as pd\n",
    "df1 = pd.read_csv('flu_pneumonia.CSV') #letting panda framing our csv file to a table format\n",
    "df2 = pd.read_csv('avg_winter_temperature.csv')\n",
    "print df1.head(2)\n",
    "print df2.head(2)\n",
    "print 'number of rows', len(df1), len(df2)\n",
    "print df1.dtypes, df2.dtypes"
   ]
  },
  {
   "cell_type": "code",
   "execution_count": 30,
   "metadata": {
    "collapsed": false
   },
   "outputs": [
    {
     "data": {
      "text/html": [
       "<div>\n",
       "<table border=\"1\" class=\"dataframe\">\n",
       "  <thead>\n",
       "    <tr style=\"text-align: right;\">\n",
       "      <th></th>\n",
       "      <th>death_rate</th>\n",
       "      <th>death_abs</th>\n",
       "    </tr>\n",
       "  </thead>\n",
       "  <tbody>\n",
       "    <tr>\n",
       "      <th>count</th>\n",
       "      <td>50.000000</td>\n",
       "      <td>50.000000</td>\n",
       "    </tr>\n",
       "    <tr>\n",
       "      <th>mean</th>\n",
       "      <td>15.882000</td>\n",
       "      <td>1139.160000</td>\n",
       "    </tr>\n",
       "    <tr>\n",
       "      <th>std</th>\n",
       "      <td>3.940149</td>\n",
       "      <td>1196.042357</td>\n",
       "    </tr>\n",
       "    <tr>\n",
       "      <th>min</th>\n",
       "      <td>8.400000</td>\n",
       "      <td>41.000000</td>\n",
       "    </tr>\n",
       "    <tr>\n",
       "      <th>25%</th>\n",
       "      <td>13.625000</td>\n",
       "      <td>378.250000</td>\n",
       "    </tr>\n",
       "    <tr>\n",
       "      <th>50%</th>\n",
       "      <td>15.800000</td>\n",
       "      <td>745.500000</td>\n",
       "    </tr>\n",
       "    <tr>\n",
       "      <th>75%</th>\n",
       "      <td>17.850000</td>\n",
       "      <td>1412.500000</td>\n",
       "    </tr>\n",
       "    <tr>\n",
       "      <th>max</th>\n",
       "      <td>27.400000</td>\n",
       "      <td>6188.000000</td>\n",
       "    </tr>\n",
       "  </tbody>\n",
       "</table>\n",
       "</div>"
      ],
      "text/plain": [
       "       death_rate    death_abs\n",
       "count   50.000000    50.000000\n",
       "mean    15.882000  1139.160000\n",
       "std      3.940149  1196.042357\n",
       "min      8.400000    41.000000\n",
       "25%     13.625000   378.250000\n",
       "50%     15.800000   745.500000\n",
       "75%     17.850000  1412.500000\n",
       "max     27.400000  6188.000000"
      ]
     },
     "execution_count": 30,
     "metadata": {},
     "output_type": "execute_result"
    }
   ],
   "source": [
    "df1.describe()"
   ]
  },
  {
   "cell_type": "markdown",
   "metadata": {},
   "source": [
    "### Importing data visualization frameworks"
   ]
  },
  {
   "cell_type": "code",
   "execution_count": 16,
   "metadata": {
    "collapsed": false
   },
   "outputs": [
    {
     "name": "stdout",
     "output_type": "stream",
     "text": [
      "Populating the interactive namespace from numpy and matplotlib\n"
     ]
    }
   ],
   "source": [
    "import matplotlib.pyplot as plt\n",
    "import seaborn as sns\n",
    "#insert data in graph\n",
    "%pylab inline"
   ]
  },
  {
   "cell_type": "markdown",
   "metadata": {},
   "source": [
    "### Merging dataframes"
   ]
  },
  {
   "cell_type": "code",
   "execution_count": 29,
   "metadata": {
    "collapsed": false
   },
   "outputs": [
    {
     "data": {
      "text/html": [
       "<div>\n",
       "<table border=\"1\" class=\"dataframe\">\n",
       "  <thead>\n",
       "    <tr style=\"text-align: right;\">\n",
       "      <th></th>\n",
       "      <th>death_rate</th>\n",
       "      <th>death_abs</th>\n",
       "      <th>avg_celsius</th>\n",
       "    </tr>\n",
       "  </thead>\n",
       "  <tbody>\n",
       "    <tr>\n",
       "      <th>count</th>\n",
       "      <td>50.000000</td>\n",
       "      <td>50.000000</td>\n",
       "      <td>50.000000</td>\n",
       "    </tr>\n",
       "    <tr>\n",
       "      <th>mean</th>\n",
       "      <td>15.882000</td>\n",
       "      <td>1139.160000</td>\n",
       "      <td>0.132000</td>\n",
       "    </tr>\n",
       "    <tr>\n",
       "      <th>std</th>\n",
       "      <td>3.940149</td>\n",
       "      <td>1196.042357</td>\n",
       "      <td>6.850099</td>\n",
       "    </tr>\n",
       "    <tr>\n",
       "      <th>min</th>\n",
       "      <td>8.400000</td>\n",
       "      <td>41.000000</td>\n",
       "      <td>-16.300000</td>\n",
       "    </tr>\n",
       "    <tr>\n",
       "      <th>25%</th>\n",
       "      <td>13.625000</td>\n",
       "      <td>378.250000</td>\n",
       "      <td>-4.525000</td>\n",
       "    </tr>\n",
       "    <tr>\n",
       "      <th>50%</th>\n",
       "      <td>15.800000</td>\n",
       "      <td>745.500000</td>\n",
       "      <td>0.000000</td>\n",
       "    </tr>\n",
       "    <tr>\n",
       "      <th>75%</th>\n",
       "      <td>17.850000</td>\n",
       "      <td>1412.500000</td>\n",
       "      <td>3.900000</td>\n",
       "    </tr>\n",
       "    <tr>\n",
       "      <th>max</th>\n",
       "      <td>27.400000</td>\n",
       "      <td>6188.000000</td>\n",
       "      <td>19.700000</td>\n",
       "    </tr>\n",
       "  </tbody>\n",
       "</table>\n",
       "</div>"
      ],
      "text/plain": [
       "       death_rate    death_abs  avg_celsius\n",
       "count   50.000000    50.000000    50.000000\n",
       "mean    15.882000  1139.160000     0.132000\n",
       "std      3.940149  1196.042357     6.850099\n",
       "min      8.400000    41.000000   -16.300000\n",
       "25%     13.625000   378.250000    -4.525000\n",
       "50%     15.800000   745.500000     0.000000\n",
       "75%     17.850000  1412.500000     3.900000\n",
       "max     27.400000  6188.000000    19.700000"
      ]
     },
     "execution_count": 29,
     "metadata": {},
     "output_type": "execute_result"
    }
   ],
   "source": [
    "df = pd.merge(df1, df2, on='state')\n",
    "df.describe()\n"
   ]
  },
  {
   "cell_type": "markdown",
   "metadata": {},
   "source": [
    "#### Formula to convert temp\n",
    "Create a function that receives a temperature in Fahrenheit and converts it to Celsius. Make both transformations in the same function, receiving as additional argument the type of conversion you want to perform.\n",
    "\n",
    "°F to °C\tDeduct 32, then multiply by 5, then divide by 9\n",
    "°C to °F\tMultiply by 9, then divide by 5, then add 32"
   ]
  },
  {
   "cell_type": "code",
   "execution_count": 38,
   "metadata": {
    "collapsed": false
   },
   "outputs": [
    {
     "name": "stdout",
     "output_type": "stream",
     "text": [
      "Celcius (y/n): n\n",
      "134\n",
      "Celcius 56\n"
     ]
    },
    {
     "data": {
      "text/plain": [
       "'\\ndef Celcius(C):\\n    C = int(raw_input())\\n    F = C*9/5+32\\n    return F\\ndef Fahrenheit(F):\\n    F = int(raw_input())\\n    C = (F-32)*5/9\\n    return C\\ntemp_conv()\\n'"
      ]
     },
     "execution_count": 38,
     "metadata": {},
     "output_type": "execute_result"
    }
   ],
   "source": [
    "def temp_conv():\n",
    "    question = 'Celcius'\n",
    "    reply = str(raw_input(question+' (y/n): ')).lower().strip()\n",
    "    if reply[0] == 'y':\n",
    "        C = int(raw_input())\n",
    "        F = C*9/5+32\n",
    "        print 'Fahrenheit', F\n",
    "    elif reply[0] == 'n':\n",
    "        F = int(raw_input())\n",
    "        C = (F-32)*5/9\n",
    "        print 'Celcius', C\n",
    "        #return Fahrenheit(F)\n",
    "temp_conv()    \n",
    "'''\n",
    "def Celcius(C):\n",
    "    C = int(raw_input())\n",
    "    F = C*9/5+32\n",
    "    return F\n",
    "def Fahrenheit(F):\n",
    "    F = int(raw_input())\n",
    "    C = (F-32)*5/9\n",
    "    return C\n",
    "temp_conv()\n",
    "'''"
   ]
  },
  {
   "cell_type": "code",
   "execution_count": 42,
   "metadata": {
    "collapsed": false
   },
   "outputs": [
    {
     "data": {
      "text/plain": [
       "37"
      ]
     },
     "execution_count": 42,
     "metadata": {},
     "output_type": "execute_result"
    }
   ],
   "source": [
    "def convert_temp(t, typ):\n",
    "    if typ == 'F':\n",
    "        return (t-32)*5/9\n",
    "    if typ == 'C':\n",
    "        return t*9/5+32\n",
    "\n",
    "convert_temp(100,'F')"
   ]
  },
  {
   "cell_type": "code",
   "execution_count": 46,
   "metadata": {
    "collapsed": false
   },
   "outputs": [
    {
     "data": {
      "text/html": [
       "<div>\n",
       "<table border=\"1\" class=\"dataframe\">\n",
       "  <thead>\n",
       "    <tr style=\"text-align: right;\">\n",
       "      <th></th>\n",
       "      <th>state</th>\n",
       "      <th>death_rate</th>\n",
       "      <th>death_abs</th>\n",
       "      <th>avg_celsius</th>\n",
       "      <th>avg_fahrenheit</th>\n",
       "    </tr>\n",
       "  </thead>\n",
       "  <tbody>\n",
       "    <tr>\n",
       "      <th>0</th>\n",
       "      <td>AK</td>\n",
       "      <td>8.4</td>\n",
       "      <td>41</td>\n",
       "      <td>-16.3</td>\n",
       "      <td>2.66</td>\n",
       "    </tr>\n",
       "    <tr>\n",
       "      <th>1</th>\n",
       "      <td>AL</td>\n",
       "      <td>19.5</td>\n",
       "      <td>1097</td>\n",
       "      <td>8.1</td>\n",
       "      <td>46.58</td>\n",
       "    </tr>\n",
       "    <tr>\n",
       "      <th>2</th>\n",
       "      <td>AR</td>\n",
       "      <td>20.0</td>\n",
       "      <td>700</td>\n",
       "      <td>5.3</td>\n",
       "      <td>41.54</td>\n",
       "    </tr>\n",
       "    <tr>\n",
       "      <th>3</th>\n",
       "      <td>AZ</td>\n",
       "      <td>9.5</td>\n",
       "      <td>775</td>\n",
       "      <td>6.4</td>\n",
       "      <td>43.52</td>\n",
       "    </tr>\n",
       "    <tr>\n",
       "      <th>4</th>\n",
       "      <td>CA</td>\n",
       "      <td>14.8</td>\n",
       "      <td>6188</td>\n",
       "      <td>7.9</td>\n",
       "      <td>46.22</td>\n",
       "    </tr>\n",
       "  </tbody>\n",
       "</table>\n",
       "</div>"
      ],
      "text/plain": [
       "  state  death_rate  death_abs  avg_celsius  avg_fahrenheit\n",
       "0    AK         8.4         41        -16.3            2.66\n",
       "1    AL        19.5       1097          8.1           46.58\n",
       "2    AR        20.0        700          5.3           41.54\n",
       "3    AZ         9.5        775          6.4           43.52\n",
       "4    CA        14.8       6188          7.9           46.22"
      ]
     },
     "execution_count": 46,
     "metadata": {},
     "output_type": "execute_result"
    }
   ],
   "source": [
    "df['avg_fahrenheit'] = np.nan\n",
    "df.head()\n",
    "df.avg_fahrenheit = df.avg_celsius*9/5+32\n",
    "df.head()"
   ]
  },
  {
   "cell_type": "code",
   "execution_count": 48,
   "metadata": {
    "collapsed": false
   },
   "outputs": [
    {
     "data": {
      "text/plain": [
       "0.3043702682829636"
      ]
     },
     "execution_count": 48,
     "metadata": {},
     "output_type": "execute_result"
    }
   ],
   "source": [
    "np.corrcoef(df.avg_fahrenheit, df.death_rate)[0,1]"
   ]
  },
  {
   "cell_type": "code",
   "execution_count": 49,
   "metadata": {
    "collapsed": false
   },
   "outputs": [
    {
     "data": {
      "text/plain": [
       "<matplotlib.axes._subplots.AxesSubplot at 0x10f448090>"
      ]
     },
     "execution_count": 49,
     "metadata": {},
     "output_type": "execute_result"
    },
    {
     "data": {
      "image/png": "[encoded data removed]",
      "text/plain": [
       "<matplotlib.figure.Figure at 0x10bc0e750>"
      ]
     },
     "metadata": {},
     "output_type": "display_data"
    }
   ],
   "source": [
    "import matplotlib.pylab\n",
    "import seaborn as sns\n",
    "sns.regplot(x = 'avg_fahrenheit', y = 'death_rate', data = df)"
   ]
  },
  {
   "cell_type": "code",
   "execution_count": null,
   "metadata": {
    "collapsed": true
   },
   "outputs": [],
   "source": []
  }
 ],
 "metadata": {
  "anaconda-cloud": {},
  "kernelspec": {
   "display_name": "Python [default]",
   "language": "python",
   "name": "python2"
  },
  "language_info": {
   "codemirror_mode": {
    "name": "ipython",
    "version": 2
   },
   "file_extension": ".py",
   "mimetype": "text/x-python",
   "name": "python",
   "nbconvert_exporter": "python",
   "pygments_lexer": "ipython2",
   "version": "2.7.12"
  }
 },
 "nbformat": 4,
 "nbformat_minor": 1
}
